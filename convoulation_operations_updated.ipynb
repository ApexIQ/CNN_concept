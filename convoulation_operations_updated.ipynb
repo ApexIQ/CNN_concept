{
  "nbformat": 4,
  "nbformat_minor": 0,
  "metadata": {
    "colab": {
      "provenance": []
    },
    "kernelspec": {
      "name": "python3",
      "display_name": "Python 3"
    },
    "language_info": {
      "name": "python"
    }
  },
  "cells": [
    {
      "cell_type": "markdown",
      "source": [
        "# Convolution in CNNs"
      ],
      "metadata": {
        "id": "9lcwSdOtQjY_"
      }
    },
    {
      "cell_type": "markdown",
      "source": [
        "\n",
        "## Explanation of Convolution as a Mathematical Operation\n",
        "\n",
        "Convolution is a mathematical operation that involves multiplying two functions to produce a third function, showing how one function modifies or affects the shape of another.\n",
        "\n",
        "In CNNs, convolution involves sliding a filter (or kernel) over an input (e.g., an image) to produce a feature map, which represents the presence of specific features like edges or textures.\n",
        "\n",
        "### Convolution Importantance in CNNs\n",
        "- Convolution allows CNNs to automatically detect important features in images, such as edges, shapes, and patterns.\n",
        "- It reduces the need for manual feature extraction and enables CNNs to recognize complex patterns in images as layers deepen.\n",
        "\n",
        "### How Does Convolution Work?\n",
        "- A filter (kernel) of size \\( f \\times f \\) is applied to a section of the input image.\n",
        "- Element-wise multiplication is performed between the filter and the corresponding part of the image.\n",
        "- The products are summed to generate a single value in the output feature map.\n",
        "- The filter then moves (slides) to the next position, repeating the process until the entire image is covered.\n"
      ],
      "metadata": {
        "id": "PIWFqU0TQd3R"
      }
    },
    {
      "cell_type": "code",
      "execution_count": null,
      "metadata": {
        "colab": {
          "base_uri": "https://localhost:8080/",
          "height": 435
        },
        "id": "tZ844wvjQZZM",
        "outputId": "e5d9a63c-ebb4-4ca8-a677-2f023eaf53df"
      },
      "outputs": [
        {
          "output_type": "display_data",
          "data": {
            "text/plain": [
              "<Figure size 1000x500 with 2 Axes>"
            ],
            "image/png": "[encoded data removed]"
          },
          "metadata": {}
        }
      ],
      "source": [
        "# Example: Convolution Operation on a 5x5 Image with a 3x3 Filter\n",
        "import numpy as np\n",
        "from scipy.signal import convolve2d\n",
        "import matplotlib.pyplot as plt\n",
        "\n",
        "# Sample input image (5x5)\n",
        "input_image = np.array([\n",
        "    [1, 2, 3, 0, 0],\n",
        "    [4, 5, 6, 0, 0],\n",
        "    [7, 8, 9, 0, 0],\n",
        "    [0, 0, 0, 0, 0],\n",
        "    [0, 0, 0, 0, 0]\n",
        "])\n",
        "\n",
        "# Sample filter (3x3)\n",
        "filter_kernel = np.array([\n",
        "    [1, 0, -1],\n",
        "    [1, 0, -1],\n",
        "    [1, 0, -1]\n",
        "])\n",
        "\n",
        "# Perform convolution using 'valid' padding\n",
        "convolved_image = convolve2d(input_image, filter_kernel, mode='valid')\n",
        "\n",
        "# Display the input and convolved image\n",
        "plt.figure(figsize=(10, 5))\n",
        "plt.subplot(1, 2, 1)\n",
        "plt.title(\"Input Image\")\n",
        "plt.imshow(input_image, cmap='gray')\n",
        "plt.subplot(1, 2, 2)\n",
        "plt.title(\"Convolved Image\")\n",
        "plt.imshow(convolved_image, cmap='gray')\n",
        "plt.show()\n"
      ]
    },
    {
      "cell_type": "markdown",
      "source": [
        "## Understanding the Purpose of Filters/Kernels in Detecting Features\n",
        "\n",
        "### Explanation of Filters/Kernels\n",
        "- Filters (or kernels) are small matrices (e.g., 3x3 or 5x5) used in convolution operations to extract features from input data.\n",
        "- Different filters can detect different patterns, such as edges, textures, and shapes, by highlighting areas where specific features are present.\n",
        "- Filters enable CNNs to recognize local patterns, such as the presence of vertical or horizontal edges.\n",
        "- As the network learns, filters adapt to detect increasingly complex features, allowing deeper layers to understand more abstract concepts like objects or scenes.\n"
      ],
      "metadata": {
        "id": "SOaFs3tDRRE5"
      }
    },
    {
      "cell_type": "markdown",
      "source": [
        "## Concept of Stride and Its Impact on Output Dimensions\n",
        "\n",
        "### Stride in CNNs\n",
        "- Stride is the number of pixels by which the filter shifts across the input data during convolution.\n",
        "- A stride of 1 means the filter shifts one pixel at a time, while a stride of 2 means it moves two pixels at each step.\n",
        "\n",
        "- Stride affects the size of the output feature map. Larger strides result in smaller output dimensions.\n",
        "- Using a larger stride can reduce the computational cost but may lead to a loss of fine details in the data.\n",
        "\n",
        "### How Does Stride Impact the Output?\n",
        "For an input image of size \\(n \\times n\\), a filter of size \\(f \\times f\\), and a stride \\(s\\):\n",
        "\n",
        "\\[\n",
        "\\text{Output size} = frac{input_image_size- Filter_size}//{stride} + 1\n",
        "\\]\n"
      ],
      "metadata": {
        "id": "hUuss5zFR_lp"
      }
    },
    {
      "cell_type": "code",
      "source": [
        "# Example: Visualizing Different Strides\n",
        "def convolution_output_size(input_size, filter_size, stride):\n",
        "    return (input_size - filter_size) // stride + 1\n",
        "\n",
        "input_size = 5  # 5x5 input image\n",
        "filter_size = 3  # 3x3 filter\n",
        "\n",
        "print(f\"Output size with stride 1: {convolution_output_size(input_size, filter_size, stride=1)}\")\n",
        "print(f\"Output size with stride 2: {convolution_output_size(input_size, filter_size, stride=2)}\")\n"
      ],
      "metadata": {
        "colab": {
          "base_uri": "https://localhost:8080/"
        },
        "id": "wxX0NVUpSXIw",
        "outputId": "24ff6be0-a7c5-4ed1-8470-55bd49802e80"
      },
      "execution_count": null,
      "outputs": [
        {
          "output_type": "stream",
          "name": "stdout",
          "text": [
            "Output size with stride 1: 3\n",
            "Output size with stride 2: 2\n"
          ]
        }
      ]
    },
    {
      "cell_type": "markdown",
      "source": [
        "## Role of Padding in Maintaining Spatial Dimensions\n",
        "\n",
        "### Padding in CNNs\n",
        "- Padding involves adding extra rows and columns around the input data before applying convolution.\n",
        "- Common padding types include 'valid' (no padding) and 'same' (padding to preserve output size).\n",
        "\n",
        "- Padding allows CNNs to maintain the spatial dimensions of the input, ensuring that important edge information is not lost.\n",
        "- It is crucial when deeper layers are required, as it prevents excessive shrinking of the output dimensions.\n",
        "\n",
        "### How Does Padding Affect Convolution?\n",
        "- 'Same' padding results in an output feature map with the same dimensions as the input.\n",
        "- 'Valid' padding results in a smaller output size since no extra padding is added.\n"
      ],
      "metadata": {
        "id": "VymoIqTbTIGI"
      }
    },
    {
      "cell_type": "code",
      "source": [
        "# Example: Effect of 'same' vs 'valid' padding on output size\n",
        "from keras.layers import Conv2D\n",
        "from keras.models import Sequential\n",
        "\n",
        "model = Sequential()\n",
        "# 'Same' padding maintains input dimensions\n",
        "model.add(Conv2D(1, (3, 3), padding='same', input_shape=(28, 28, 1)))\n",
        "print(\"Output shape with 'same' padding:\", model.output_shape)\n",
        "\n",
        "# 'Valid' padding reduces dimensions\n",
        "model.add(Conv2D(1, (3, 3), padding='valid', input_shape=(28, 28, 1)))\n",
        "print(\"Output shape with 'valid' padding:\", model.output_shape)\n"
      ],
      "metadata": {
        "colab": {
          "base_uri": "https://localhost:8080/"
        },
        "id": "ggxubLg_TJkJ",
        "outputId": "6ec98035-d0fb-4046-e24c-86a0da718e5b"
      },
      "execution_count": null,
      "outputs": [
        {
          "output_type": "stream",
          "name": "stdout",
          "text": [
            "Output shape with 'same' padding: (None, 28, 28, 1)\n",
            "Output shape with 'valid' padding: (None, 26, 26, 1)\n"
          ]
        },
        {
          "output_type": "stream",
          "name": "stderr",
          "text": [
            "/usr/local/lib/python3.10/dist-packages/keras/src/layers/convolutional/base_conv.py:107: UserWarning: Do not pass an `input_shape`/`input_dim` argument to a layer. When using Sequential models, prefer using an `Input(shape)` object as the first layer in the model instead.\n",
            "  super().__init__(activity_regularizer=activity_regularizer, **kwargs)\n"
          ]
        }
      ]
    }
  ]
}